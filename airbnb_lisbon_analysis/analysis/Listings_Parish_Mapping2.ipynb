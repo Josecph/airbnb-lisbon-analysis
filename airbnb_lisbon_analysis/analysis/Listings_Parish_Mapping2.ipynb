{
 "cells": [
  {
   "cell_type": "markdown",
   "id": "f7f238ea-7ead-4a8f-9a68-ab40b8bdf7f8",
   "metadata": {},
   "source": [
    "Read listings, reviews and calendar"
   ]
  },
  {
   "cell_type": "code",
   "execution_count": 1,
   "id": "11790b5a-583c-4279-ab7f-57bdb7a64fee",
   "metadata": {},
   "outputs": [
    {
     "name": "stderr",
     "output_type": "stream",
     "text": [
      "/var/folders/k6/hdzmrkf915d0twbr_qmhy9l00000gn/T/ipykernel_91469/2405712681.py:15: DtypeWarning: Columns (4) have mixed types. Specify dtype option on import or set low_memory=False.\n",
      "  calendar = pd.read_csv(\"../data/calendar.csv.gz\", compression=\"gzip\")\n"
     ]
    }
   ],
   "source": [
    "import pandas as pd\n",
    "import locale\n",
    "\n",
    "locale.setlocale(locale.LC_ALL, 'en_US')\n",
    "\n",
    "# listings\n",
    "df = pd.read_csv(\"../data/listings.csv.gz\", compression=\"gzip\")\n",
    "\n",
    "# reviews and review languages\n",
    "reviews = pd.read_csv(\"../data/reviews.csv.gz\", compression=\"gzip\")\n",
    "reviews[\"date\"] = pd.to_datetime(reviews[\"date\"])\n",
    "review_languages = pd.read_csv(\"../data/review_languages.csv.gz\", compression=\"gzip\")\n",
    "\n",
    "# calendar with prices\n",
    "calendar = pd.read_csv(\"../data/calendar.csv.gz\", compression=\"gzip\")\n",
    "calendar[\"date\"] = pd.to_datetime(calendar[\"date\"])\n",
    "calendar[\"price_numeric\"] = calendar[\"price\"].str[1:].map(locale.atof)"
   ]
  },
  {
   "cell_type": "markdown",
   "id": "a8e0ef7d-60eb-4d4c-9303-f1dcdbf0a75e",
   "metadata": {},
   "source": [
    "Read parish definitions"
   ]
  },
  {
   "cell_type": "code",
   "execution_count": 2,
   "id": "eea52a9b-76dd-4cab-bdd2-8660f694206a",
   "metadata": {},
   "outputs": [],
   "source": [
    "import geopandas\n",
    "from shapely.geometry import Point\n",
    "\n",
    "df_parishes = geopandas.read_file(\"../data/lisbon_parishes.geojson\")\n",
    "df[\"geometry\"] = df.apply(lambda row: Point(row[\"longitude\"], row[\"latitude\"]), axis=1)\n",
    "\n",
    "df_listings = geopandas.GeoDataFrame(df, crs=\"EPSG:4326\", geometry=\"geometry\")"
   ]
  },
  {
   "cell_type": "markdown",
   "id": "774a8adf-83b2-4a07-944d-6056df81674d",
   "metadata": {},
   "source": [
    "Merge dataframes"
   ]
  },
  {
   "cell_type": "code",
   "execution_count": 3,
   "id": "d3907b8b-96ff-4d58-8e2c-411098094f34",
   "metadata": {},
   "outputs": [],
   "source": [
    "merged_df = pd.merge(reviews, calendar, on=['listing_id', 'date'], how='left')\n",
    "merged_df[\"price_numeric\"] = merged_df[\"price_numeric\"].fillna(0)"
   ]
  },
  {
   "cell_type": "code",
   "execution_count": 4,
   "id": "37ff9613-5cd9-46ce-8204-440fcd93320a",
   "metadata": {},
   "outputs": [
    {
     "data": {
      "text/html": [
       "<div>\n",
       "<style scoped>\n",
       "    .dataframe tbody tr th:only-of-type {\n",
       "        vertical-align: middle;\n",
       "    }\n",
       "\n",
       "    .dataframe tbody tr th {\n",
       "        vertical-align: top;\n",
       "    }\n",
       "\n",
       "    .dataframe thead th {\n",
       "        text-align: right;\n",
       "    }\n",
       "</style>\n",
       "<table border=\"1\" class=\"dataframe\">\n",
       "  <thead>\n",
       "    <tr style=\"text-align: right;\">\n",
       "      <th></th>\n",
       "      <th>listing_id</th>\n",
       "      <th>id</th>\n",
       "      <th>date</th>\n",
       "      <th>reviewer_id</th>\n",
       "      <th>reviewer_name</th>\n",
       "      <th>comments</th>\n",
       "      <th>available</th>\n",
       "      <th>price</th>\n",
       "      <th>adjusted_price</th>\n",
       "      <th>minimum_nights</th>\n",
       "      <th>maximum_nights</th>\n",
       "      <th>price_numeric</th>\n",
       "    </tr>\n",
       "  </thead>\n",
       "  <tbody>\n",
       "    <tr>\n",
       "      <th>0</th>\n",
       "      <td>6499</td>\n",
       "      <td>18879225</td>\n",
       "      <td>2014-09-02</td>\n",
       "      <td>17027029</td>\n",
       "      <td>Simone</td>\n",
       "      <td>Ola Bruno,\\r&lt;br/&gt;\\r&lt;br/&gt;Tive um mes Fantástico...</td>\n",
       "      <td>NaN</td>\n",
       "      <td>NaN</td>\n",
       "      <td>NaN</td>\n",
       "      <td>NaN</td>\n",
       "      <td>NaN</td>\n",
       "      <td>0.0</td>\n",
       "    </tr>\n",
       "    <tr>\n",
       "      <th>1</th>\n",
       "      <td>6499</td>\n",
       "      <td>21074122</td>\n",
       "      <td>2014-10-11</td>\n",
       "      <td>7661611</td>\n",
       "      <td>Cláudio</td>\n",
       "      <td>Encontramos o apartamento de Bruno exatamente ...</td>\n",
       "      <td>NaN</td>\n",
       "      <td>NaN</td>\n",
       "      <td>NaN</td>\n",
       "      <td>NaN</td>\n",
       "      <td>NaN</td>\n",
       "      <td>0.0</td>\n",
       "    </tr>\n",
       "    <tr>\n",
       "      <th>2</th>\n",
       "      <td>6499</td>\n",
       "      <td>24704004</td>\n",
       "      <td>2015-01-02</td>\n",
       "      <td>20348870</td>\n",
       "      <td>Rodrigo</td>\n",
       "      <td>Estivemos em Lisboa por aproximadamente 03 (tr...</td>\n",
       "      <td>NaN</td>\n",
       "      <td>NaN</td>\n",
       "      <td>NaN</td>\n",
       "      <td>NaN</td>\n",
       "      <td>NaN</td>\n",
       "      <td>0.0</td>\n",
       "    </tr>\n",
       "    <tr>\n",
       "      <th>3</th>\n",
       "      <td>6499</td>\n",
       "      <td>37894945</td>\n",
       "      <td>2015-07-11</td>\n",
       "      <td>34762351</td>\n",
       "      <td>Blandine</td>\n",
       "      <td>Superbe quartier très proche du tram et du tra...</td>\n",
       "      <td>NaN</td>\n",
       "      <td>NaN</td>\n",
       "      <td>NaN</td>\n",
       "      <td>NaN</td>\n",
       "      <td>NaN</td>\n",
       "      <td>0.0</td>\n",
       "    </tr>\n",
       "    <tr>\n",
       "      <th>4</th>\n",
       "      <td>6499</td>\n",
       "      <td>41672462</td>\n",
       "      <td>2015-08-08</td>\n",
       "      <td>39438424</td>\n",
       "      <td>Mirjana</td>\n",
       "      <td>Très bel appartement, bien situé et à proximit...</td>\n",
       "      <td>NaN</td>\n",
       "      <td>NaN</td>\n",
       "      <td>NaN</td>\n",
       "      <td>NaN</td>\n",
       "      <td>NaN</td>\n",
       "      <td>0.0</td>\n",
       "    </tr>\n",
       "  </tbody>\n",
       "</table>\n",
       "</div>"
      ],
      "text/plain": [
       "   listing_id        id       date  reviewer_id reviewer_name  \\\n",
       "0        6499  18879225 2014-09-02     17027029        Simone   \n",
       "1        6499  21074122 2014-10-11      7661611       Cláudio   \n",
       "2        6499  24704004 2015-01-02     20348870       Rodrigo   \n",
       "3        6499  37894945 2015-07-11     34762351      Blandine   \n",
       "4        6499  41672462 2015-08-08     39438424       Mirjana   \n",
       "\n",
       "                                            comments available price  \\\n",
       "0  Ola Bruno,\\r<br/>\\r<br/>Tive um mes Fantástico...       NaN   NaN   \n",
       "1  Encontramos o apartamento de Bruno exatamente ...       NaN   NaN   \n",
       "2  Estivemos em Lisboa por aproximadamente 03 (tr...       NaN   NaN   \n",
       "3  Superbe quartier très proche du tram et du tra...       NaN   NaN   \n",
       "4  Très bel appartement, bien situé et à proximit...       NaN   NaN   \n",
       "\n",
       "  adjusted_price  minimum_nights  maximum_nights  price_numeric  \n",
       "0            NaN             NaN             NaN            0.0  \n",
       "1            NaN             NaN             NaN            0.0  \n",
       "2            NaN             NaN             NaN            0.0  \n",
       "3            NaN             NaN             NaN            0.0  \n",
       "4            NaN             NaN             NaN            0.0  "
      ]
     },
     "execution_count": 4,
     "metadata": {},
     "output_type": "execute_result"
    }
   ],
   "source": [
    "merged_df.head()"
   ]
  },
  {
   "cell_type": "markdown",
   "id": "165a1c19-0b1f-4ac5-a3e2-5fc7c1cc3fe4",
   "metadata": {},
   "source": [
    "Map listings to each parish"
   ]
  },
  {
   "cell_type": "code",
   "execution_count": 5,
   "id": "1b4d1a94-c654-4994-bc11-26e02138871f",
   "metadata": {},
   "outputs": [],
   "source": [
    "from collections import defaultdict\n",
    "\n",
    "listings = []\n",
    "listings_per_parish = defaultdict(list)\n",
    "\n",
    "for _, parish in df_parishes.iterrows():\n",
    "    filtered_listings = df_listings[df_listings[\"geometry\"].within(parish.geometry)]\n",
    "    listings.append(filtered_listings)\n",
    "    listings_per_parish[parish.id].extend(filtered_listings.id.tolist())\n",
    "\n",
    "df_listings = pd.concat(listings)\n",
    "df_listings = df_listings[df_listings[\"number_of_reviews\"] > 0]"
   ]
  },
  {
   "cell_type": "markdown",
   "id": "35283b20-0f49-4799-97d1-8b29441689c9",
   "metadata": {},
   "source": [
    "Find start and end date and the number of quarters:"
   ]
  },
  {
   "cell_type": "code",
   "execution_count": 6,
   "id": "6c5bdde2-8c88-4489-a61f-1f6eb6be1655",
   "metadata": {},
   "outputs": [
    {
     "name": "stdout",
     "output_type": "stream",
     "text": [
      "2010-07-24 00:00:00\n",
      "2024-12-15 00:00:00\n",
      "58\n"
     ]
    }
   ],
   "source": [
    "start_date = reviews.date.min()\n",
    "end_date = reviews.date.max()\n",
    "quarters = reviews[\"date\"].dt.to_period('Q').unique()\n",
    "\n",
    "print(start_date)\n",
    "print(end_date)\n",
    "print(len(quarters))"
   ]
  },
  {
   "cell_type": "markdown",
   "id": "5a7469e8-73dd-4346-bd82-91d403de9a2b",
   "metadata": {},
   "source": [
    "We iterrate over each quarter and each parish. Then we create one tuple which includes the parish, the quarter, number of reviews and main language:"
   ]
  },
  {
   "cell_type": "code",
   "execution_count": 7,
   "id": "e0cf1bb5-724e-424a-9cf4-6a0c157e2d11",
   "metadata": {},
   "outputs": [
    {
     "name": "stderr",
     "output_type": "stream",
     "text": [
      "100%|████████████████████████████████████████████████████████████████████████████████████████████████████████████████████████████████████████| 7714/7714 [00:51<00:00, 148.51it/s]\n"
     ]
    }
   ],
   "source": [
    "from tqdm import tqdm\n",
    "\n",
    "merged_df[\"quarter\"] = reviews['date'].dt.to_period('Q')\n",
    "parish_languages = []\n",
    "\n",
    "with tqdm(total=len(quarters) * len(listings_per_parish)) as pbar:\n",
    "    # each quarter\n",
    "    for name, groups in merged_df.groupby(\"quarter\"):\n",
    "    \n",
    "        # each parish\n",
    "        for parish, listing_ids in listings_per_parish.items():\n",
    "            # get reviews for the respective parish\n",
    "            rows = groups[groups[\"listing_id\"].isin(listing_ids)]\n",
    "            language_mapping = review_languages[review_languages[\"id\"].isin(rows[\"id\"])]\n",
    "    \n",
    "            # if there are reviews in the selected period, determine the \"main\" language\n",
    "            if len(rows) > 0:\n",
    "                language_mode = language_mapping.language.mode()\n",
    "                parish_languages.append((\n",
    "                    parish, name, len(rows), language_mode.iloc[0], rows[\"price_numeric\"].mean()\n",
    "                ))\n",
    "            \n",
    "            pbar.update(1)"
   ]
  },
  {
   "cell_type": "code",
   "execution_count": 8,
   "id": "b667c027-bf4e-428b-863e-66c6fb4f7aa0",
   "metadata": {},
   "outputs": [
    {
     "data": {
      "text/plain": [
       "[(5328942886, Period('2010Q3', 'Q-DEC'), 3, 'en', np.float64(0.0)),\n",
       " (5328942886, Period('2010Q4', 'Q-DEC'), 1, 'en', np.float64(0.0)),\n",
       " (5328942886, Period('2011Q1', 'Q-DEC'), 1, 'en', np.float64(0.0)),\n",
       " (5553082417, Period('2011Q1', 'Q-DEC'), 2, 'en', np.float64(0.0)),\n",
       " (5309790438, Period('2011Q2', 'Q-DEC'), 1, 'en', np.float64(0.0)),\n",
       " (5328942886, Period('2011Q2', 'Q-DEC'), 2, 'en', np.float64(0.0)),\n",
       " (5309790438, Period('2011Q3', 'Q-DEC'), 1, 'en', np.float64(0.0)),\n",
       " (5328942886, Period('2011Q3', 'Q-DEC'), 1, 'en', np.float64(0.0)),\n",
       " (5527372459, Period('2011Q3', 'Q-DEC'), 9, 'en', np.float64(0.0)),\n",
       " (5553082417, Period('2011Q3', 'Q-DEC'), 1, 'en', np.float64(0.0))]"
      ]
     },
     "execution_count": 8,
     "metadata": {},
     "output_type": "execute_result"
    }
   ],
   "source": [
    "parish_languages[:10]"
   ]
  },
  {
   "cell_type": "code",
   "execution_count": 9,
   "id": "d254323a-99af-4df6-884a-d769c424f6ed",
   "metadata": {},
   "outputs": [],
   "source": [
    "import csv\n",
    "\n",
    "with open(\"../data/parish_data_quarterly.csv\", \"wt\") as fp:\n",
    "    writer = csv.writer(fp)\n",
    "    writer.writerow((\"parish_id\", \"quarter\", \"num_reviews\", \"language\", \"avg_price\"))\n",
    "    writer.writerows(parish_languages)"
   ]
  },
  {
   "cell_type": "code",
   "execution_count": null,
   "id": "5f87f019-afee-4643-98b6-2688e379ecfa",
   "metadata": {},
   "outputs": [],
   "source": []
  },
  {
   "cell_type": "code",
   "execution_count": null,
   "id": "2835a3af-a3e8-4219-997e-2d364bac7921",
   "metadata": {},
   "outputs": [],
   "source": []
  }
 ],
 "metadata": {
  "kernelspec": {
   "display_name": "Python 3 (ipykernel)",
   "language": "python",
   "name": "python3"
  },
  "language_info": {
   "codemirror_mode": {
    "name": "ipython",
    "version": 3
   },
   "file_extension": ".py",
   "mimetype": "text/x-python",
   "name": "python",
   "nbconvert_exporter": "python",
   "pygments_lexer": "ipython3",
   "version": "3.12.9"
  }
 },
 "nbformat": 4,
 "nbformat_minor": 5
}
