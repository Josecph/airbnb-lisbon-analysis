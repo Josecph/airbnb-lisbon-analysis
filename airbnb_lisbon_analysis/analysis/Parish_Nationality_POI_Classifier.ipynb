{
 "cells": [
  {
   "cell_type": "markdown",
   "id": "13731f47-eed5-4166-af67-7712961680bd",
   "metadata": {},
   "source": [
    "Import parish boundaries"
   ]
  },
  {
   "cell_type": "code",
   "execution_count": 1,
   "id": "910c80d1-b0f4-48b3-8d78-734a1f7ee5ff",
   "metadata": {},
   "outputs": [],
   "source": [
    "import geopandas\n",
    "from shapely.geometry import Point\n",
    "\n",
    "df_parishes = geopandas.read_file(\"../data/lisbon_parishes.geojson\")"
   ]
  },
  {
   "cell_type": "markdown",
   "id": "dedd46e2-5869-4fce-8c96-f6bfc0df823d",
   "metadata": {},
   "source": [
    "Import language mapping"
   ]
  },
  {
   "cell_type": "code",
   "execution_count": 2,
   "id": "94a0b79a-063c-4245-842f-1d65b0f68314",
   "metadata": {},
   "outputs": [],
   "source": [
    "import pandas as pd\n",
    "df_language = pd.read_csv(\"../data/parish_data_quarterly.csv\")"
   ]
  },
  {
   "cell_type": "markdown",
   "id": "006b3ad1-b3d1-423c-82cb-77feeef2b84c",
   "metadata": {},
   "source": [
    "Pull the points of interest and categorize them"
   ]
  },
  {
   "cell_type": "code",
   "execution_count": 15,
   "id": "ffbf9784-1c23-47f6-ac90-2fe1ab446a7f",
   "metadata": {},
   "outputs": [],
   "source": [
    "from pyrosm import OSM\n",
    "\n",
    "osm = OSM(\"../data/lisbon-latest.osm.pbf\")\n",
    "\n",
    "pois = osm.get_pois()\n",
    "pois[\"poi_type\"] = pois[\"amenity\"]\n",
    "pois[\"poi_type\"] = pois[\"poi_type\"].fillna(pois[\"shop\"])"
   ]
  },
  {
   "cell_type": "code",
   "execution_count": 36,
   "id": "9643cebe-9672-4440-bfc3-d6adca1b0ad5",
   "metadata": {},
   "outputs": [],
   "source": [
    "categories = sorted([value for value in pois[\"poi_type\"].unique().tolist() if value is not None])\n",
    "languages = df_language[\"language\"].unique().tolist()\n",
    "\n",
    "def encode(rows):\n",
    "    value_counts = rows[\"poi_type\"].value_counts()\n",
    "    return [\n",
    "        value_counts.get(category, 0) for category in categories\n",
    "    ]\n",
    "\n",
    "encodings = []\n",
    "mode_languages = []\n",
    "\n",
    "for _, parish in df_parishes.iterrows():\n",
    "    language_mode = df_language[df_language[\"parish_id\"] == parish.id][\"language\"].mode()\n",
    "    if len(language_mode) > 0:\n",
    "        filtered_pois = pois[pois[\"geometry\"].within(parish.geometry)]\n",
    "        encodings.append(encode(filtered_pois))\n",
    "        mode_languages.append(languages.index(language_mode.iloc[0]))"
   ]
  },
  {
   "cell_type": "code",
   "execution_count": 43,
   "id": "d8794f06-0cf5-49a2-8cbe-b791002c528e",
   "metadata": {},
   "outputs": [
    {
     "name": "stdout",
     "output_type": "stream",
     "text": [
      "[0.57692308 0.61538462 0.76       0.84       0.6       ]\n",
      "0.6784615384615384\n"
     ]
    },
    {
     "name": "stderr",
     "output_type": "stream",
     "text": [
      "/Users/fohlen/PycharmProjects/airbnb_lisbon_analysis/venv/lib/python3.12/site-packages/sklearn/model_selection/_split.py:805: UserWarning: The least populated class in y has only 1 members, which is less than n_splits=5.\n",
      "  warnings.warn(\n",
      "/Users/fohlen/PycharmProjects/airbnb_lisbon_analysis/venv/lib/python3.12/site-packages/sklearn/linear_model/_logistic.py:465: ConvergenceWarning: lbfgs failed to converge (status=1):\n",
      "STOP: TOTAL NO. OF ITERATIONS REACHED LIMIT.\n",
      "\n",
      "Increase the number of iterations (max_iter) or scale the data as shown in:\n",
      "    https://scikit-learn.org/stable/modules/preprocessing.html\n",
      "Please also refer to the documentation for alternative solver options:\n",
      "    https://scikit-learn.org/stable/modules/linear_model.html#logistic-regression\n",
      "  n_iter_i = _check_optimize_result(\n",
      "/Users/fohlen/PycharmProjects/airbnb_lisbon_analysis/venv/lib/python3.12/site-packages/sklearn/linear_model/_logistic.py:465: ConvergenceWarning: lbfgs failed to converge (status=1):\n",
      "STOP: TOTAL NO. OF ITERATIONS REACHED LIMIT.\n",
      "\n",
      "Increase the number of iterations (max_iter) or scale the data as shown in:\n",
      "    https://scikit-learn.org/stable/modules/preprocessing.html\n",
      "Please also refer to the documentation for alternative solver options:\n",
      "    https://scikit-learn.org/stable/modules/linear_model.html#logistic-regression\n",
      "  n_iter_i = _check_optimize_result(\n",
      "/Users/fohlen/PycharmProjects/airbnb_lisbon_analysis/venv/lib/python3.12/site-packages/sklearn/linear_model/_logistic.py:465: ConvergenceWarning: lbfgs failed to converge (status=1):\n",
      "STOP: TOTAL NO. OF ITERATIONS REACHED LIMIT.\n",
      "\n",
      "Increase the number of iterations (max_iter) or scale the data as shown in:\n",
      "    https://scikit-learn.org/stable/modules/preprocessing.html\n",
      "Please also refer to the documentation for alternative solver options:\n",
      "    https://scikit-learn.org/stable/modules/linear_model.html#logistic-regression\n",
      "  n_iter_i = _check_optimize_result(\n",
      "/Users/fohlen/PycharmProjects/airbnb_lisbon_analysis/venv/lib/python3.12/site-packages/sklearn/linear_model/_logistic.py:465: ConvergenceWarning: lbfgs failed to converge (status=1):\n",
      "STOP: TOTAL NO. OF ITERATIONS REACHED LIMIT.\n",
      "\n",
      "Increase the number of iterations (max_iter) or scale the data as shown in:\n",
      "    https://scikit-learn.org/stable/modules/preprocessing.html\n",
      "Please also refer to the documentation for alternative solver options:\n",
      "    https://scikit-learn.org/stable/modules/linear_model.html#logistic-regression\n",
      "  n_iter_i = _check_optimize_result(\n",
      "/Users/fohlen/PycharmProjects/airbnb_lisbon_analysis/venv/lib/python3.12/site-packages/sklearn/linear_model/_logistic.py:465: ConvergenceWarning: lbfgs failed to converge (status=1):\n",
      "STOP: TOTAL NO. OF ITERATIONS REACHED LIMIT.\n",
      "\n",
      "Increase the number of iterations (max_iter) or scale the data as shown in:\n",
      "    https://scikit-learn.org/stable/modules/preprocessing.html\n",
      "Please also refer to the documentation for alternative solver options:\n",
      "    https://scikit-learn.org/stable/modules/linear_model.html#logistic-regression\n",
      "  n_iter_i = _check_optimize_result(\n"
     ]
    }
   ],
   "source": [
    "import numpy as np\n",
    "from sklearn import linear_model\n",
    "from sklearn.model_selection import cross_val_score\n",
    "\n",
    "X = np.array(encodings)\n",
    "y = np.array(mode_languages)\n",
    "\n",
    "reg = linear_model.LogisticRegression()\n",
    "scores = cross_val_score(reg, X, y, cv=5, scoring=\"accuracy\")"
   ]
  },
  {
   "cell_type": "code",
   "execution_count": 44,
   "id": "e87f11d5-2578-45d5-86ff-fa063606fa09",
   "metadata": {},
   "outputs": [
    {
     "name": "stdout",
     "output_type": "stream",
     "text": [
      "390\n"
     ]
    }
   ],
   "source": [
    "print(len(categories))"
   ]
  },
  {
   "cell_type": "code",
   "execution_count": 45,
   "id": "b25f4d75-6590-456e-9ab4-accaa1abcb15",
   "metadata": {},
   "outputs": [
    {
     "name": "stdout",
     "output_type": "stream",
     "text": [
      "13\n"
     ]
    }
   ],
   "source": [
    "print(len(languages))"
   ]
  },
  {
   "cell_type": "code",
   "execution_count": 46,
   "id": "fcb93171-8d24-4d1f-909d-8b668c279981",
   "metadata": {},
   "outputs": [
    {
     "name": "stdout",
     "output_type": "stream",
     "text": [
      "[0.57692308 0.61538462 0.76       0.84       0.6       ]\n",
      "0.6784615384615384\n",
      "0.10313890214703021\n"
     ]
    }
   ],
   "source": [
    "print(scores)\n",
    "print(np.mean(scores))\n",
    "print(np.std(scores))"
   ]
  },
  {
   "cell_type": "code",
   "execution_count": 53,
   "id": "ea832e84-04ff-43f5-ad5f-8b23d590e524",
   "metadata": {},
   "outputs": [],
   "source": [
    "import matplotlib.pyplot as plt\n",
    "\n",
    "from sklearn.decomposition import PCA\n",
    "from sklearn.preprocessing import StandardScaler\n",
    "\n",
    "def plot_pca_elbow(X, max_components=None):\n",
    "    \"\"\"\n",
    "    Plots the explained variance ratio as a function of the number of principal components.\n",
    "\n",
    "    Args:\n",
    "        X (numpy.ndarray): The input data matrix.\n",
    "        max_components (int, optional): The maximum number of components to consider. If None,\n",
    "                                        it defaults to the number of features in X.\n",
    "    \"\"\"\n",
    "\n",
    "    # Standardize the data\n",
    "    scaler = StandardScaler()\n",
    "    X_scaled = scaler.fit_transform(X)\n",
    "\n",
    "    n_components = min(X_scaled.shape) if max_components is None else min(max_components, X_scaled.shape[1])\n",
    "\n",
    "    pca = PCA(n_components=n_components)\n",
    "    pca.fit(X_scaled)\n",
    "\n",
    "    explained_variance_ratio = pca.explained_variance_ratio_\n",
    "    cumulative_variance_ratio = np.cumsum(explained_variance_ratio)\n",
    "\n",
    "    plt.figure(figsize=(10, 6))\n",
    "    plt.plot(range(1, n_components + 1), cumulative_variance_ratio, marker='o', linestyle='--')\n",
    "    plt.title('PCA Elbow Plot')\n",
    "    plt.xlabel('Number of Principal Components')\n",
    "    plt.ylabel('Cumulative Explained Variance Ratio')\n",
    "    plt.grid(True)\n",
    "    plt.savefig(\"elbow_plot.png\")\n",
    "    plt.show()"
   ]
  },
  {
   "cell_type": "code",
   "execution_count": 54,
   "id": "e1a2b6ce-7b3a-4cfd-863e-05566ec320b3",
   "metadata": {},
   "outputs": [
    {
     "data": {
      "image/png": "[encoded data removed]",
      "text/plain": [
       "<Figure size 1000x600 with 1 Axes>"
      ]
     },
     "metadata": {},
     "output_type": "display_data"
    }
   ],
   "source": [
    "plot_pca_elbow(X)\n"
   ]
  },
  {
   "cell_type": "code",
   "execution_count": null,
   "id": "4a93bb13-ab69-4ff5-9a19-fa175b97f455",
   "metadata": {},
   "outputs": [],
   "source": []
  }
 ],
 "metadata": {
  "kernelspec": {
   "display_name": "Python 3 (ipykernel)",
   "language": "python",
   "name": "python3"
  },
  "language_info": {
   "codemirror_mode": {
    "name": "ipython",
    "version": 3
   },
   "file_extension": ".py",
   "mimetype": "text/x-python",
   "name": "python",
   "nbconvert_exporter": "python",
   "pygments_lexer": "ipython3",
   "version": "3.12.9"
  }
 },
 "nbformat": 4,
 "nbformat_minor": 5
}
