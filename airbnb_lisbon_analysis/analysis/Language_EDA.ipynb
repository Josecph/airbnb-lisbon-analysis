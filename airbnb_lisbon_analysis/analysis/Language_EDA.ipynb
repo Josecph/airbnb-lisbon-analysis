{
 "cells": [
  {
   "cell_type": "code",
   "execution_count": 1,
   "id": "4f5f7de6-17cb-4b1f-a8f7-157a0fdb9bd9",
   "metadata": {},
   "outputs": [],
   "source": [
    "import pandas as pd\n",
    "\n",
    "reviews = pd.read_csv(\"../data/reviews.csv.gz\", compression=\"gzip\")\n",
    "review_languages = pd.read_csv(\"../data/review_languages.csv.gz\", compression=\"gzip\")"
   ]
  },
  {
   "cell_type": "code",
   "execution_count": 2,
   "id": "bbd71514-c3b2-4a52-b635-04c090384651",
   "metadata": {},
   "outputs": [
    {
     "data": {
      "text/html": [
       "<div>\n",
       "<style scoped>\n",
       "    .dataframe tbody tr th:only-of-type {\n",
       "        vertical-align: middle;\n",
       "    }\n",
       "\n",
       "    .dataframe tbody tr th {\n",
       "        vertical-align: top;\n",
       "    }\n",
       "\n",
       "    .dataframe thead th {\n",
       "        text-align: right;\n",
       "    }\n",
       "</style>\n",
       "<table border=\"1\" class=\"dataframe\">\n",
       "  <thead>\n",
       "    <tr style=\"text-align: right;\">\n",
       "      <th></th>\n",
       "      <th>listing_id</th>\n",
       "      <th>id</th>\n",
       "      <th>date</th>\n",
       "      <th>reviewer_id</th>\n",
       "      <th>reviewer_name</th>\n",
       "      <th>comments</th>\n",
       "    </tr>\n",
       "  </thead>\n",
       "  <tbody>\n",
       "    <tr>\n",
       "      <th>0</th>\n",
       "      <td>6499</td>\n",
       "      <td>18879225</td>\n",
       "      <td>2014-09-02</td>\n",
       "      <td>17027029</td>\n",
       "      <td>Simone</td>\n",
       "      <td>Ola Bruno,\\r&lt;br/&gt;\\r&lt;br/&gt;Tive um mes Fantástico...</td>\n",
       "    </tr>\n",
       "    <tr>\n",
       "      <th>1</th>\n",
       "      <td>6499</td>\n",
       "      <td>21074122</td>\n",
       "      <td>2014-10-11</td>\n",
       "      <td>7661611</td>\n",
       "      <td>Cláudio</td>\n",
       "      <td>Encontramos o apartamento de Bruno exatamente ...</td>\n",
       "    </tr>\n",
       "    <tr>\n",
       "      <th>2</th>\n",
       "      <td>6499</td>\n",
       "      <td>24704004</td>\n",
       "      <td>2015-01-02</td>\n",
       "      <td>20348870</td>\n",
       "      <td>Rodrigo</td>\n",
       "      <td>Estivemos em Lisboa por aproximadamente 03 (tr...</td>\n",
       "    </tr>\n",
       "    <tr>\n",
       "      <th>3</th>\n",
       "      <td>6499</td>\n",
       "      <td>37894945</td>\n",
       "      <td>2015-07-11</td>\n",
       "      <td>34762351</td>\n",
       "      <td>Blandine</td>\n",
       "      <td>Superbe quartier très proche du tram et du tra...</td>\n",
       "    </tr>\n",
       "    <tr>\n",
       "      <th>4</th>\n",
       "      <td>6499</td>\n",
       "      <td>41672462</td>\n",
       "      <td>2015-08-08</td>\n",
       "      <td>39438424</td>\n",
       "      <td>Mirjana</td>\n",
       "      <td>Très bel appartement, bien situé et à proximit...</td>\n",
       "    </tr>\n",
       "  </tbody>\n",
       "</table>\n",
       "</div>"
      ],
      "text/plain": [
       "   listing_id        id        date  reviewer_id reviewer_name  \\\n",
       "0        6499  18879225  2014-09-02     17027029        Simone   \n",
       "1        6499  21074122  2014-10-11      7661611       Cláudio   \n",
       "2        6499  24704004  2015-01-02     20348870       Rodrigo   \n",
       "3        6499  37894945  2015-07-11     34762351      Blandine   \n",
       "4        6499  41672462  2015-08-08     39438424       Mirjana   \n",
       "\n",
       "                                            comments  \n",
       "0  Ola Bruno,\\r<br/>\\r<br/>Tive um mes Fantástico...  \n",
       "1  Encontramos o apartamento de Bruno exatamente ...  \n",
       "2  Estivemos em Lisboa por aproximadamente 03 (tr...  \n",
       "3  Superbe quartier très proche du tram et du tra...  \n",
       "4  Très bel appartement, bien situé et à proximit...  "
      ]
     },
     "execution_count": 2,
     "metadata": {},
     "output_type": "execute_result"
    }
   ],
   "source": [
    "reviews.head()"
   ]
  },
  {
   "cell_type": "code",
   "execution_count": 7,
   "id": "dedf0958-a1dd-44f0-8cb9-1a527be27775",
   "metadata": {},
   "outputs": [
    {
     "data": {
      "text/plain": [
       "0    614.0\n",
       "1    887.0\n",
       "2    870.0\n",
       "3    178.0\n",
       "4    261.0\n",
       "Name: comments, dtype: float64"
      ]
     },
     "execution_count": 7,
     "metadata": {},
     "output_type": "execute_result"
    }
   ],
   "source": [
    "reviews.comments.str.len().head()"
   ]
  },
  {
   "cell_type": "code",
   "execution_count": 27,
   "id": "8c7ec708-fa34-480c-b452-af7b6a6ae67d",
   "metadata": {},
   "outputs": [
    {
     "data": {
      "text/plain": [
       "np.float64(264.3798827045747)"
      ]
     },
     "execution_count": 27,
     "metadata": {},
     "output_type": "execute_result"
    }
   ],
   "source": [
    "reviews.comments.str.len().mean()"
   ]
  },
  {
   "cell_type": "code",
   "execution_count": 8,
   "id": "54448017-1723-46f3-8d16-0cf077ddead8",
   "metadata": {},
   "outputs": [
    {
     "data": {
      "text/html": [
       "<div>\n",
       "<style scoped>\n",
       "    .dataframe tbody tr th:only-of-type {\n",
       "        vertical-align: middle;\n",
       "    }\n",
       "\n",
       "    .dataframe tbody tr th {\n",
       "        vertical-align: top;\n",
       "    }\n",
       "\n",
       "    .dataframe thead th {\n",
       "        text-align: right;\n",
       "    }\n",
       "</style>\n",
       "<table border=\"1\" class=\"dataframe\">\n",
       "  <thead>\n",
       "    <tr style=\"text-align: right;\">\n",
       "      <th></th>\n",
       "      <th>id</th>\n",
       "      <th>language</th>\n",
       "    </tr>\n",
       "  </thead>\n",
       "  <tbody>\n",
       "    <tr>\n",
       "      <th>0</th>\n",
       "      <td>18879225</td>\n",
       "      <td>pt</td>\n",
       "    </tr>\n",
       "    <tr>\n",
       "      <th>1</th>\n",
       "      <td>21074122</td>\n",
       "      <td>pt</td>\n",
       "    </tr>\n",
       "    <tr>\n",
       "      <th>2</th>\n",
       "      <td>24704004</td>\n",
       "      <td>pt</td>\n",
       "    </tr>\n",
       "    <tr>\n",
       "      <th>3</th>\n",
       "      <td>37894945</td>\n",
       "      <td>fr</td>\n",
       "    </tr>\n",
       "    <tr>\n",
       "      <th>4</th>\n",
       "      <td>41672462</td>\n",
       "      <td>fr</td>\n",
       "    </tr>\n",
       "  </tbody>\n",
       "</table>\n",
       "</div>"
      ],
      "text/plain": [
       "         id language\n",
       "0  18879225       pt\n",
       "1  21074122       pt\n",
       "2  24704004       pt\n",
       "3  37894945       fr\n",
       "4  41672462       fr"
      ]
     },
     "execution_count": 8,
     "metadata": {},
     "output_type": "execute_result"
    }
   ],
   "source": [
    "review_languages.head()"
   ]
  },
  {
   "cell_type": "code",
   "execution_count": 28,
   "id": "342855da-d86e-488d-bdfc-4b1203bf96f0",
   "metadata": {},
   "outputs": [
    {
     "data": {
      "image/png": "[encoded data removed]",
      "text/plain": [
       "<Figure size 1000x600 with 3 Axes>"
      ]
     },
     "metadata": {},
     "output_type": "display_data"
    }
   ],
   "source": [
    "import matplotlib.pyplot as plt\n",
    "import seaborn as sns\n",
    "\n",
    "\n",
    "fig, axs = plt.subplots(ncols=3, nrows=1, figsize=(10, 6))\n",
    "\n",
    "axs[0].set_title(\"Review length\")\n",
    "axs[1].set_title(\"Reviews per reviewer\")\n",
    "axs[2].set_title(\"Reviews by language\")\n",
    "\n",
    "sns.histplot(reviews.comments.str.len(), ax=axs[0])\n",
    "sns.histplot(reviews.reviewer_id, ax=axs[1])\n",
    "review_languages.language.value_counts()[:10].plot(kind=\"bar\", ax=axs[2])\n",
    "\n",
    "plt.tight_layout()\n",
    "plt.savefig(\"review_summary.png\")\n",
    "plt.show()"
   ]
  },
  {
   "cell_type": "code",
   "execution_count": 24,
   "id": "0441eb8b-28e4-4675-81b3-35ef01961487",
   "metadata": {},
   "outputs": [],
   "source": [
    "language_counts = review_languages.language.value_counts()"
   ]
  },
  {
   "cell_type": "code",
   "execution_count": 26,
   "id": "1f74835f-676b-4fd7-aa7b-5d28f66c2a65",
   "metadata": {},
   "outputs": [
    {
     "data": {
      "text/plain": [
       "48"
      ]
     },
     "execution_count": 26,
     "metadata": {},
     "output_type": "execute_result"
    }
   ],
   "source": [
    "len(language_counts)"
   ]
  },
  {
   "cell_type": "raw",
   "id": "f487d9d1-c898-4651-b42f-ca45584e0cb4",
   "metadata": {},
   "source": [
    "reviews."
   ]
  }
 ],
 "metadata": {
  "kernelspec": {
   "display_name": "Python 3 (ipykernel)",
   "language": "python",
   "name": "python3"
  },
  "language_info": {
   "codemirror_mode": {
    "name": "ipython",
    "version": 3
   },
   "file_extension": ".py",
   "mimetype": "text/x-python",
   "name": "python",
   "nbconvert_exporter": "python",
   "pygments_lexer": "ipython3",
   "version": "3.12.9"
  }
 },
 "nbformat": 4,
 "nbformat_minor": 5
}
